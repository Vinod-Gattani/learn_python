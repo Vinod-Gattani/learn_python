{
 "cells": [
  {
   "cell_type": "markdown",
   "metadata": {},
   "source": [
    "### Upgrade to python 3.8 using conda\n",
    "\n",
    "- conda update -n base -c defaults conda\n",
    "- conda create -n python38 python=3.8\n",
    "- conda info --envs [check your existing python environments]\n",
    "- conda deactivate [deactivate existing environment]\n",
    "- conda actiavte python38 [check the environment name of python38]\n",
    "\n",
    "\n",
    "- Source https://stackoverflow.com/questions/58568175/upgrade-to-python-3-8-using-conda"
   ]
  },
  {
   "cell_type": "markdown",
   "metadata": {},
   "source": [
    "#### Source\n",
    "\n",
    "https://levelup.gitconnected.com/faster-code-with-python-caching-8da6e8a92ae9"
   ]
  },
  {
   "cell_type": "code",
   "execution_count": null,
   "metadata": {
    "ExecuteTime": {
     "end_time": "2020-09-15T09:34:03.334881Z",
     "start_time": "2020-09-15T09:34:03.331045Z"
    }
   },
   "outputs": [],
   "source": [
    "from functools import cached_property\n",
    "from functools import lru_cache"
   ]
  },
  {
   "cell_type": "markdown",
   "metadata": {},
   "source": [
    "it works only with python >= 3.8"
   ]
  },
  {
   "cell_type": "code",
   "execution_count": null,
   "metadata": {
    "ExecuteTime": {
     "end_time": "2020-09-15T09:35:49.257990Z",
     "start_time": "2020-09-15T09:35:49.253871Z"
    }
   },
   "outputs": [],
   "source": [
    "class advanced_list:\n",
    "    def __init__(self, vals_list):\n",
    "        self.values = vals_list\n",
    "\n",
    "    @cached_property\n",
    "    def sum(self):\n",
    "        return sum(self.values)"
   ]
  },
  {
   "cell_type": "code",
   "execution_count": null,
   "metadata": {
    "ExecuteTime": {
     "end_time": "2020-09-15T09:35:49.705388Z",
     "start_time": "2020-09-15T09:35:49.619235Z"
    }
   },
   "outputs": [],
   "source": [
    "from time import time\n",
    "my_list = advanced_list([1] * 10000000)\n",
    "# First time\n",
    "start = time()\n",
    "my_list.sum\n",
    "end = time()\n",
    "print(f\"{(end - start):.5f} second\") \n",
    "# Second time\n",
    "start = time()\n",
    "my_list.sum\n",
    "end = time()\n",
    "print(f\"{(end - start):.5f} second\") "
   ]
  },
  {
   "cell_type": "code",
   "execution_count": null,
   "metadata": {
    "ExecuteTime": {
     "end_time": "2020-09-15T09:35:50.529610Z",
     "start_time": "2020-09-15T09:35:50.526294Z"
    }
   },
   "outputs": [],
   "source": [
    "del my_list.sum"
   ]
  },
  {
   "cell_type": "code",
   "execution_count": null,
   "metadata": {
    "ExecuteTime": {
     "end_time": "2020-09-15T09:35:53.472568Z",
     "start_time": "2020-09-15T09:35:53.383738Z"
    }
   },
   "outputs": [],
   "source": [
    "from time import time\n",
    "my_list = advanced_list([1] * 10000000)\n",
    "# First time\n",
    "start = time()\n",
    "my_list.sum\n",
    "end = time()\n",
    "print(f\"{(end - start):.5f} second\") \n",
    "# Second time\n",
    "start = time()\n",
    "my_list.sum\n",
    "end = time()\n",
    "print(f\"{(end - start):.5f} second\") "
   ]
  },
  {
   "cell_type": "code",
   "execution_count": null,
   "metadata": {
    "ExecuteTime": {
     "end_time": "2020-09-15T09:37:40.598132Z",
     "start_time": "2020-09-15T09:37:40.593431Z"
    }
   },
   "outputs": [],
   "source": [
    "class advanced_list:\n",
    "    def __init__(self, vals_list):\n",
    "        self.values = vals_list\n",
    "\n",
    "    @lru_cache(maxsize=10)\n",
    "    def sum(self):\n",
    "        return sum(self.values)"
   ]
  },
  {
   "cell_type": "code",
   "execution_count": null,
   "metadata": {
    "ExecuteTime": {
     "end_time": "2020-09-15T09:37:51.765192Z",
     "start_time": "2020-09-15T09:37:51.680975Z"
    }
   },
   "outputs": [],
   "source": [
    "my_list = advanced_list([1] * 10000000)\n",
    "# First time\n",
    "start = time()\n",
    "my_list.sum\n",
    "end = time()\n",
    "print(f\"{(end - start):.5f} second\") \n",
    "# Second time\n",
    "start = time()\n",
    "my_list.sum\n",
    "end = time()\n",
    "print(f\"{(end - start):.5f} second\") "
   ]
  },
  {
   "cell_type": "code",
   "execution_count": null,
   "metadata": {
    "ExecuteTime": {
     "end_time": "2020-09-15T09:35:24.974948Z",
     "start_time": "2020-09-15T09:35:24.889421Z"
    }
   },
   "outputs": [],
   "source": [
    "my_list = advanced_list([1] * 10000000)\n",
    "# First time\n",
    "start = time()\n",
    "my_list.sum\n",
    "end = time()\n",
    "print(f\"{(end - start):.5f} second\") \n",
    "# Second time\n",
    "start = time()\n",
    "my_list.sum()\n",
    "end = time()\n",
    "print(f\"{(end - start):.5f} second\") "
   ]
  },
  {
   "cell_type": "code",
   "execution_count": null,
   "metadata": {
    "ExecuteTime": {
     "end_time": "2020-09-15T09:37:54.486831Z",
     "start_time": "2020-09-15T09:37:54.482913Z"
    }
   },
   "outputs": [],
   "source": [
    "my_list.sum.cache_info()"
   ]
  },
  {
   "cell_type": "code",
   "execution_count": null,
   "metadata": {},
   "outputs": [],
   "source": [
    "my_list.sum.cache_clear()"
   ]
  }
 ],
 "metadata": {
  "kernelspec": {
   "display_name": "Python 3",
   "language": "python",
   "name": "python3"
  },
  "language_info": {
   "codemirror_mode": {
    "name": "ipython",
    "version": 3
   },
   "file_extension": ".py",
   "mimetype": "text/x-python",
   "name": "python",
   "nbconvert_exporter": "python",
   "pygments_lexer": "ipython3",
   "version": "3.8.5"
  }
 },
 "nbformat": 4,
 "nbformat_minor": 2
}
