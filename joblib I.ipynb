{
 "cells": [
  {
   "cell_type": "markdown",
   "metadata": {},
   "source": [
    "### Source\n",
    "\n",
    "- https://towardsdatascience.com/using-joblib-to-speed-up-your-python-pipelines-dd97440c653d"
   ]
  },
  {
   "cell_type": "markdown",
   "metadata": {},
   "source": [
    "### Cache results"
   ]
  },
  {
   "cell_type": "code",
   "execution_count": 4,
   "metadata": {
    "ExecuteTime": {
     "end_time": "2020-09-16T13:16:52.378901Z",
     "start_time": "2020-09-16T13:16:52.375310Z"
    }
   },
   "outputs": [],
   "source": [
    "from joblib import Memory"
   ]
  },
  {
   "cell_type": "code",
   "execution_count": 9,
   "metadata": {
    "ExecuteTime": {
     "end_time": "2020-09-16T13:18:09.747007Z",
     "start_time": "2020-09-16T13:18:09.744370Z"
    }
   },
   "outputs": [],
   "source": [
    "import time\n",
    "import numpy as np"
   ]
  },
  {
   "cell_type": "code",
   "execution_count": 11,
   "metadata": {
    "ExecuteTime": {
     "end_time": "2020-09-16T13:18:31.115094Z",
     "start_time": "2020-09-16T13:18:31.111467Z"
    }
   },
   "outputs": [],
   "source": [
    "square_number = lambda x: x*x"
   ]
  },
  {
   "cell_type": "code",
   "execution_count": 13,
   "metadata": {
    "ExecuteTime": {
     "end_time": "2020-09-16T13:18:57.467723Z",
     "start_time": "2020-09-16T13:18:37.395292Z"
    }
   },
   "outputs": [
    {
     "name": "stdout",
     "output_type": "stream",
     "text": [
      "\n",
      "The function took 20.06 s to compute.\n",
      "[1, 4, 9, 16, 25, 36, 49, 64, 81, 100, 121, 144, 169, 196, 225, 256, 289, 324, 361, 400]\n"
     ]
    }
   ],
   "source": [
    "location = '/tmp/'\n",
    "memory = Memory(location, verbose=0)\n",
    "\n",
    "result = []\n",
    "\n",
    "# Function to compute square of a range of a number:\n",
    "def get_square_range_cached(start_no, end_no):\n",
    "    for i in np.arange(start_no, end_no):\n",
    "        time.sleep(1)\n",
    "        result.append(square_number(i))\n",
    "    return result\n",
    "\n",
    "get_square_range_cached = memory.cache(get_square_range_cached)\n",
    "\n",
    "start = time.time()\n",
    "# Getting square of 1 to 50:\n",
    "final_result = get_square_range_cached(1, 21)\n",
    "end = time.time()\n",
    "\n",
    "# Total time to compute\n",
    "print('\\nThe function took {:.2f} s to compute.'.format(end - start))\n",
    "print(final_result)"
   ]
  },
  {
   "cell_type": "code",
   "execution_count": 14,
   "metadata": {
    "ExecuteTime": {
     "end_time": "2020-09-16T13:19:18.222936Z",
     "start_time": "2020-09-16T13:19:18.216705Z"
    }
   },
   "outputs": [
    {
     "name": "stdout",
     "output_type": "stream",
     "text": [
      "\n",
      "The function took 0.00 s to compute.\n",
      "[1, 4, 9, 16, 25, 36, 49, 64, 81, 100, 121, 144, 169, 196, 225, 256, 289, 324, 361, 400]\n"
     ]
    }
   ],
   "source": [
    "start = time.time()\n",
    "# Getting square of 1 to 50:\n",
    "final_result = get_square_range_cached(1, 21)\n",
    "end = time.time()\n",
    "\n",
    "# Total time to compute\n",
    "print('\\nThe function took {:.2f} s to compute.'.format(end - start))\n",
    "print(final_result)"
   ]
  },
  {
   "cell_type": "code",
   "execution_count": 15,
   "metadata": {
    "ExecuteTime": {
     "end_time": "2020-09-16T13:19:30.490336Z",
     "start_time": "2020-09-16T13:19:30.483941Z"
    }
   },
   "outputs": [
    {
     "name": "stderr",
     "output_type": "stream",
     "text": [
      "WARNING:root:[Memory(location=/tmp/joblib)]: Flushing completely the cache\n"
     ]
    }
   ],
   "source": [
    "memory.clear()"
   ]
  },
  {
   "cell_type": "markdown",
   "metadata": {},
   "source": [
    "### Parallelization"
   ]
  },
  {
   "cell_type": "code",
   "execution_count": 18,
   "metadata": {
    "ExecuteTime": {
     "end_time": "2020-09-16T13:27:46.766204Z",
     "start_time": "2020-09-16T13:27:46.762596Z"
    }
   },
   "outputs": [],
   "source": [
    "from joblib import delayed, Parallel\n",
    "from math import sqrt"
   ]
  },
  {
   "cell_type": "code",
   "execution_count": 26,
   "metadata": {
    "ExecuteTime": {
     "end_time": "2020-09-16T13:30:23.741444Z",
     "start_time": "2020-09-16T13:29:37.188434Z"
    }
   },
   "outputs": [
    {
     "name": "stdout",
     "output_type": "stream",
     "text": [
      "30.0837 s\n",
      "16.4585 s\n"
     ]
    }
   ],
   "source": [
    "def multiply_2_nums(i, j):\n",
    "    \"\"\" \n",
    "    We define a simple function with two parameters.\n",
    "    \"\"\"\n",
    "    time.sleep(1)\n",
    "    return (i**j)\n",
    "\n",
    "j_num = 3\n",
    "num = 10\n",
    "\n",
    "start = time.time()\n",
    "for i in range(num):\n",
    "    for j in range(j_num):\n",
    "        multiply_2_nums(i, j)\n",
    "end = time.time()\n",
    "print('{:.4f} s'.format(end-start))\n",
    "\n",
    "start = time.time()\n",
    "# n_jobs is the number of parallel jobs\n",
    "Parallel(n_jobs=2)(delayed(multiply_2_nums)(i, j) for i in range(num) for j in range(j_num))\n",
    "end = time.time()\n",
    "print('{:.4f} s'.format(end-start))\n",
    "\n"
   ]
  },
  {
   "cell_type": "code",
   "execution_count": 27,
   "metadata": {
    "ExecuteTime": {
     "end_time": "2020-09-16T13:30:32.594458Z",
     "start_time": "2020-09-16T13:30:23.746307Z"
    }
   },
   "outputs": [
    {
     "name": "stdout",
     "output_type": "stream",
     "text": [
      "8.8409 s\n"
     ]
    }
   ],
   "source": [
    "start = time.time()\n",
    "# n_jobs is the number of parallel jobs\n",
    "Parallel(n_jobs=4)(delayed(multiply_2_nums)(i, j) for i in range(num) for j in range(j_num))\n",
    "end = time.time()\n",
    "print('{:.4f} s'.format(end-start))"
   ]
  },
  {
   "cell_type": "code",
   "execution_count": 28,
   "metadata": {
    "ExecuteTime": {
     "end_time": "2020-09-16T13:31:23.153779Z",
     "start_time": "2020-09-16T13:31:23.149984Z"
    }
   },
   "outputs": [],
   "source": [
    "import multiprocessing"
   ]
  },
  {
   "cell_type": "code",
   "execution_count": 29,
   "metadata": {
    "ExecuteTime": {
     "end_time": "2020-09-16T13:31:28.113527Z",
     "start_time": "2020-09-16T13:31:28.099567Z"
    }
   },
   "outputs": [
    {
     "data": {
      "text/plain": [
       "8"
      ]
     },
     "execution_count": 29,
     "metadata": {},
     "output_type": "execute_result"
    }
   ],
   "source": [
    "multiprocessing.cpu_count()"
   ]
  },
  {
   "cell_type": "markdown",
   "metadata": {},
   "source": [
    "### Dump and load\n",
    "#### Compression"
   ]
  },
  {
   "cell_type": "code",
   "execution_count": 30,
   "metadata": {
    "ExecuteTime": {
     "end_time": "2020-09-16T13:36:08.344230Z",
     "start_time": "2020-09-16T13:36:08.340776Z"
    }
   },
   "outputs": [],
   "source": [
    "import joblib"
   ]
  },
  {
   "cell_type": "code",
   "execution_count": null,
   "metadata": {},
   "outputs": [],
   "source": [
    "with open(file, 'wb') as f:\n",
    "    joblib.dump(data, f, compress=) #zlib, zl4,"
   ]
  },
  {
   "cell_type": "code",
   "execution_count": 31,
   "metadata": {
    "ExecuteTime": {
     "end_time": "2020-09-16T13:37:36.930596Z",
     "start_time": "2020-09-16T13:37:36.923025Z"
    }
   },
   "outputs": [],
   "source": [
    "a = [1,2,3]\n",
    "with open(\"temp.temp\", 'wb') as f:\n",
    "    joblib.dump(a, f, compress='zlib')"
   ]
  },
  {
   "cell_type": "code",
   "execution_count": 32,
   "metadata": {
    "ExecuteTime": {
     "end_time": "2020-09-16T13:37:45.634864Z",
     "start_time": "2020-09-16T13:37:45.506832Z"
    }
   },
   "outputs": [],
   "source": [
    "!rm temp.temp"
   ]
  },
  {
   "cell_type": "code",
   "execution_count": null,
   "metadata": {},
   "outputs": [],
   "source": []
  }
 ],
 "metadata": {
  "kernelspec": {
   "display_name": "Python 3",
   "language": "python",
   "name": "python3"
  },
  "language_info": {
   "codemirror_mode": {
    "name": "ipython",
    "version": 3
   },
   "file_extension": ".py",
   "mimetype": "text/x-python",
   "name": "python",
   "nbconvert_exporter": "python",
   "pygments_lexer": "ipython3",
   "version": "3.8.5"
  }
 },
 "nbformat": 4,
 "nbformat_minor": 4
}
