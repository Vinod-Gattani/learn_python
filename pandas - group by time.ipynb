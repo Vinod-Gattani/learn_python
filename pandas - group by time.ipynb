{
 "cells": [
  {
   "cell_type": "markdown",
   "metadata": {},
   "source": [
    "#### Source\n",
    "\n",
    "- https://pandas.pydata.org/pandas-docs/stable/user_guide/timeseries.html#offset-aliases\n",
    "- https://towardsdatascience.com/how-to-group-data-by-different-time-intervals-using-python-pandas-eb7134f9b9b0\n",
    "- https://pandas.pydata.org/pandas-docs/stable/reference/api/pandas.Grouper.html"
   ]
  },
  {
   "cell_type": "code",
   "execution_count": null,
   "metadata": {
    "ExecuteTime": {
     "end_time": "2020-09-15T10:21:56.137814Z",
     "start_time": "2020-09-15T10:21:55.544760Z"
    }
   },
   "outputs": [],
   "source": [
    "import pandas as pd"
   ]
  },
  {
   "cell_type": "code",
   "execution_count": null,
   "metadata": {
    "ExecuteTime": {
     "end_time": "2020-09-15T10:21:57.161851Z",
     "start_time": "2020-09-15T10:21:57.155809Z"
    }
   },
   "outputs": [],
   "source": [
    "pd.set_option('max_rows',200)\n",
    "pd.set_option('max_columns', None)"
   ]
  },
  {
   "cell_type": "code",
   "execution_count": null,
   "metadata": {
    "ExecuteTime": {
     "end_time": "2020-09-15T10:22:08.890363Z",
     "start_time": "2020-09-15T10:22:08.884880Z"
    }
   },
   "outputs": [],
   "source": [
    "URL = \"https://raw.githubusercontent.com/ankitgoel1602/data-science/master/data-analysis/pandas-timeseries/arg-crowdsourcedpdcpilot02_final_obs_all_clean.csv\""
   ]
  },
  {
   "cell_type": "code",
   "execution_count": null,
   "metadata": {
    "ExecuteTime": {
     "end_time": "2020-09-15T10:22:32.751040Z",
     "start_time": "2020-09-15T10:22:18.072461Z"
    }
   },
   "outputs": [],
   "source": [
    "df = pd.read_csv(URL)"
   ]
  },
  {
   "cell_type": "code",
   "execution_count": null,
   "metadata": {
    "ExecuteTime": {
     "end_time": "2020-09-15T10:22:32.799725Z",
     "start_time": "2020-09-15T10:22:32.752608Z"
    }
   },
   "outputs": [],
   "source": [
    "df.head()"
   ]
  },
  {
   "cell_type": "code",
   "execution_count": null,
   "metadata": {
    "ExecuteTime": {
     "end_time": "2020-09-15T10:23:38.277350Z",
     "start_time": "2020-09-15T10:23:38.249582Z"
    }
   },
   "outputs": [],
   "source": [
    "df['created_at']=pd.to_datetime(df['created_at'])"
   ]
  },
  {
   "cell_type": "code",
   "execution_count": null,
   "metadata": {
    "ExecuteTime": {
     "end_time": "2020-09-15T10:23:17.669759Z",
     "start_time": "2020-09-15T10:23:17.661888Z"
    }
   },
   "outputs": [],
   "source": [
    "df.dtypes"
   ]
  },
  {
   "cell_type": "code",
   "execution_count": null,
   "metadata": {
    "ExecuteTime": {
     "end_time": "2020-09-15T10:23:40.233526Z",
     "start_time": "2020-09-15T10:23:40.144489Z"
    }
   },
   "outputs": [],
   "source": [
    "# data re-sampled based on an hour\n",
    "df.resample('H', on='created_at').price.sum()"
   ]
  },
  {
   "cell_type": "code",
   "execution_count": null,
   "metadata": {
    "ExecuteTime": {
     "end_time": "2020-09-15T10:26:30.485800Z",
     "start_time": "2020-09-15T10:26:30.434058Z"
    }
   },
   "outputs": [],
   "source": [
    "df.resample('15Min', on='created_at').price.sum()"
   ]
  },
  {
   "cell_type": "code",
   "execution_count": null,
   "metadata": {
    "ExecuteTime": {
     "end_time": "2020-09-15T10:27:40.261392Z",
     "start_time": "2020-09-15T10:27:40.205868Z"
    }
   },
   "outputs": [],
   "source": [
    "df.resample('H', on='created_at', offset='15Min10s').price.sum()"
   ]
  },
  {
   "cell_type": "code",
   "execution_count": null,
   "metadata": {
    "ExecuteTime": {
     "end_time": "2020-09-15T10:28:03.616424Z",
     "start_time": "2020-09-15T10:28:03.566145Z"
    }
   },
   "outputs": [],
   "source": [
    "df.resample('W-MON', on='created_at').price.sum()"
   ]
  },
  {
   "cell_type": "code",
   "execution_count": null,
   "metadata": {
    "ExecuteTime": {
     "end_time": "2020-09-15T10:38:32.087265Z",
     "start_time": "2020-09-15T10:38:32.012865Z"
    }
   },
   "outputs": [],
   "source": [
    "df.resample('MS', on='created_at').price.sum()"
   ]
  },
  {
   "cell_type": "code",
   "execution_count": null,
   "metadata": {
    "ExecuteTime": {
     "end_time": "2020-09-15T10:39:13.895723Z",
     "start_time": "2020-09-15T10:39:13.821766Z"
    }
   },
   "outputs": [],
   "source": [
    "# Grouping data based on month and store type\n",
    "df.groupby([pd.Grouper(key='created_at', freq='M'), 'store_type']).price.sum().head(15)"
   ]
  },
  {
   "cell_type": "code",
   "execution_count": null,
   "metadata": {
    "ExecuteTime": {
     "end_time": "2020-09-15T10:40:22.269772Z",
     "start_time": "2020-09-15T10:40:22.187108Z"
    }
   },
   "outputs": [],
   "source": [
    "df.groupby([pd.Grouper(key='created_at', freq='M'), 'store_type']).agg(\n",
    "    unique_items=('item_code', 'nunique'),\n",
    "         total_quantity=('quantity','sum'),\n",
    "         total_amount=('price','sum')).head(20)"
   ]
  },
  {
   "cell_type": "code",
   "execution_count": null,
   "metadata": {},
   "outputs": [],
   "source": []
  }
 ],
 "metadata": {
  "kernelspec": {
   "display_name": "Python 3",
   "language": "python",
   "name": "python3"
  },
  "language_info": {
   "codemirror_mode": {
    "name": "ipython",
    "version": 3
   },
   "file_extension": ".py",
   "mimetype": "text/x-python",
   "name": "python",
   "nbconvert_exporter": "python",
   "pygments_lexer": "ipython3",
   "version": "3.8.5"
  }
 },
 "nbformat": 4,
 "nbformat_minor": 4
}
